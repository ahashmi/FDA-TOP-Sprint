{
 "cells": [
  {
   "cell_type": "code",
   "execution_count": 1,
   "id": "4ed1b456-df8e-4d87-99ba-bbd0bf403b70",
   "metadata": {},
   "outputs": [],
   "source": [
    "from pathlib import Path\n",
    "import requests\n",
    "from bs4 import BeautifulSoup\n",
    "import json\n",
    "import pandas as pd\n",
    "import matplotlib.pyplot as plt\n",
    "%matplotlib inline"
   ]
  },
  {
   "cell_type": "code",
   "execution_count": 2,
   "id": "12cc255a-7c62-4d6d-ad67-3b9ef0f39ec2",
   "metadata": {},
   "outputs": [],
   "source": [
    "sources = {\n",
    "    'AHRQ SDOH': 'https://www.ahrq.gov/sdoh/data-analytics/sdoh-data.html',\n",
    "    'CDC EPH': 'https://ephtracking.cdc.gov/',\n",
    "    'CDC PLACES': 'https://www.cdc.gov/places/',\n",
    "    'CDC PLACES DATA': 'https://chronicdata.cdc.gov/',\n",
    "    'CDC/ATSDR SVI': 'https://www.atsdr.cdc.gov/placeandhealth/svi/',\n",
    "    'NCHS Data Access': 'https://www.cdc.gov/nchs/data_access/ftp_data.htm',\n",
    "    'EPA AQI': 'https://aqs.epa.gov/aqsweb/airdata/download_files.html',\n",
    "}"
   ]
  },
  {
   "cell_type": "code",
   "execution_count": 3,
   "id": "cf4b9f3e-1913-43ab-a107-fb11fe9b38c6",
   "metadata": {},
   "outputs": [],
   "source": [
    "DATA_YEAR = '2020'"
   ]
  },
  {
   "cell_type": "code",
   "execution_count": 4,
   "id": "883de9bd-d360-4f1a-9913-6fc054070d46",
   "metadata": {},
   "outputs": [],
   "source": [
    "data_dir = Path.cwd().parent / 'DATA'\n",
    "data_dir.mkdir(exist_ok=True, parents=True)"
   ]
  },
  {
   "cell_type": "code",
   "execution_count": 5,
   "id": "d4d347d7-a866-4dbc-9409-4ce70fbdf331",
   "metadata": {},
   "outputs": [],
   "source": [
    "year_data = data_dir / DATA_YEAR\n",
    "year_data.mkdir(exist_ok=True)"
   ]
  },
  {
   "cell_type": "code",
   "execution_count": 6,
   "id": "90c8b8e4-d68f-4c15-8bad-9537498b59be",
   "metadata": {},
   "outputs": [
    {
     "name": "stdout",
     "output_type": "stream",
     "text": [
      "site: AHRQ SDOH, OK\n",
      "site: CDC EPH, OK\n",
      "site: CDC PLACES, OK\n",
      "site: CDC PLACES DATA, OK\n",
      "site: CDC/ATSDR SVI, OK\n",
      "site: NCHS Data Access, OK\n",
      "site: EPA AQI, OK\n"
     ]
    }
   ],
   "source": [
    "for source, url in sources.items():\n",
    "    try:\n",
    "        resp = requests.get(url)\n",
    "        resp.raise_for_status()\n",
    "        print(f\"site: {source}, OK\")\n",
    "    except:\n",
    "        print(f\"site: {source}, status: {resp.status_code}\")"
   ]
  },
  {
   "cell_type": "code",
   "execution_count": 7,
   "id": "92f07ebd-00f0-4524-8d6f-ac4a6d113fb4",
   "metadata": {},
   "outputs": [],
   "source": [
    "KB = 1024\n",
    "CHUNK_SIZE = 8 * KB"
   ]
  },
  {
   "cell_type": "markdown",
   "id": "dd65f317-6ed7-4c1b-819a-6699791a5925",
   "metadata": {},
   "source": [
    "## AHRQ SDOH"
   ]
  },
  {
   "cell_type": "code",
   "execution_count": 8,
   "id": "0386b8cb-2b42-40e7-8fb0-e051711b69c0",
   "metadata": {},
   "outputs": [],
   "source": [
    "# AHRQ SDOH data files\n",
    "# docs: https://www.ahrq.gov/sites/default/files/wysiwyg/sdoh/SDOH-Data-Sources-Documentation-v1-Final.pdf\n",
    "SOURCE = 'AHRQ SDOH'\n",
    "ahrq_url = 'https://www.ahrq.gov'\n",
    "sdoh_url = sources[SOURCE]"
   ]
  },
  {
   "cell_type": "code",
   "execution_count": 9,
   "id": "67fd804b-8be1-4c3f-aa5c-35114816e59e",
   "metadata": {},
   "outputs": [
    {
     "name": "stdout",
     "output_type": "stream",
     "text": [
      "site: AHRQ SDOH, OK\n",
      "file table found, row count: 13\n",
      "headlings:\n",
      "\t Codebook Files 2009-2020\n",
      "\t County Data 2009-2020\n",
      "\t ZIP Code Data 2011-2020\n",
      "\t Census Tract Data 2009-2020\n",
      "data year found: 2020\n"
     ]
    }
   ],
   "source": [
    "# collect file urls\n",
    "sdoh_data = {}\n",
    "resp = requests.get(sdoh_url)\n",
    "if resp.status_code == 200:\n",
    "    print(f\"site: {SOURCE}, OK\")\n",
    "    soup = BeautifulSoup(resp.content)\n",
    "    file_table = soup.find_all('table')[0]\n",
    "    table_rows = file_table.find_all('tr')\n",
    "    if len(table_rows):\n",
    "        print(f\"file table found, row count: {len(table_rows)}\\nheadlings:\")\n",
    "    for r, row in enumerate(table_rows):\n",
    "        if not r:\n",
    "            for head_cell in row.find_all('th'):\n",
    "                print('\\t', head_cell.text)\n",
    "                cell_elems = head_cell.text.split()\n",
    "                cell_elems.pop(-1)\n",
    "                sdoh_data[' '.join(cell_elems)] = None\n",
    "        else:\n",
    "            first_col = row.find_all('td')[0]\n",
    "            row_year = first_col.text.split()[0]\n",
    "            if row_year == DATA_YEAR:\n",
    "                print(f\"data year found: {row_year}\")\n",
    "                row_data = zip(sdoh_data.keys(), row.find_all('td'))\n",
    "                for data_key, cell_data in row_data:\n",
    "                    cell_link_tag = cell_data.select_one('a')\n",
    "                    cell_link = cell_link_tag.get('href')\n",
    "                    if '://' not in cell_link:\n",
    "                        cell_link = ahrq_url + cell_link\n",
    "                    sdoh_data[data_key] = {\n",
    "                        'url': cell_link,\n",
    "                    }"
   ]
  },
  {
   "cell_type": "code",
   "execution_count": 10,
   "id": "2a5accf5-4d08-4541-9335-0413f751c278",
   "metadata": {},
   "outputs": [],
   "source": [
    "ahrq_dir = year_data / 'AHRQ'\n",
    "ahrq_dir.mkdir(exist_ok=True)"
   ]
  },
  {
   "cell_type": "code",
   "execution_count": 11,
   "id": "1c72f20e-4fe7-4241-b55d-80829dc6241d",
   "metadata": {},
   "outputs": [],
   "source": [
    "ahrq_sources = ahrq_dir / 'source_files.json'\n",
    "with open(ahrq_sources, 'w') as js_out:\n",
    "    json.dump(sdoh_data, js_out, indent=4)"
   ]
  },
  {
   "cell_type": "code",
   "execution_count": 12,
   "id": "d581021f-4224-4d92-a2b5-11f0b6d1214b",
   "metadata": {},
   "outputs": [
    {
     "name": "stdout",
     "output_type": "stream",
     "text": [
      "file written: SDOH_2020_CODEBOOK_1_0.XLSX, size: 440.0 kb\n",
      "file written: SDOH_2020_COUNTY_1_0.XLSX, size: 9,984.0 kb\n",
      "file written: SDOH_2020_ZIPCODE_1_0.XLSX, size: 60,056.0 kb\n",
      "file written: SDOH_2020_TRACT_1_0.XLSX, size: 129,120.0 kb\n"
     ]
    }
   ],
   "source": [
    "# download data\n",
    "for file_type, file_info in sdoh_data.items():\n",
    "    file_url = file_info['url']\n",
    "    file_name = file_url.split('/')[-1].upper()\n",
    "    try:\n",
    "        resp = requests.get(file_url, stream=True)\n",
    "        resp.raise_for_status()\n",
    "        local_file = ahrq_dir / file_name\n",
    "        with open(local_file, 'wb') as f_out:\n",
    "            for chunk in resp.iter_content(chunk_size=CHUNK_SIZE):\n",
    "                f_out.write(chunk)\n",
    "            file_size = local_file.stat().st_size / KB\n",
    "            print(f\"file written: {file_name}, size: {round(file_size, 2):,} kb\")\n",
    "    except Exception as e:\n",
    "        print(e)"
   ]
  },
  {
   "cell_type": "markdown",
   "id": "d8ece8f5-be54-47eb-8c90-f2ae3496e206",
   "metadata": {},
   "source": [
    "## CDC SVI\n",
    "\n",
    "Data & download page: <https://www.atsdr.cdc.gov/placeandhealth/svi/data_documentation_download.html>\n",
    "\n",
    "**NOTE**: There is no clear API or easy method to automate the download from this page. So, simply use the form to manually download 2020 data in the following configurations:\n",
    "\n",
    "* **GEO**: United States, **Geo Type**: Census Tracks, **File Type**: Shapefile\n",
    "* **GEO**: United States, **Geo Type**: Census Tracks, **File Type**: csv\n",
    "* **GEO**: United States, **Geo Type**: Counties, **File Type**: Shapefile\n",
    "* **GEO**: United States, **Geo Type**: Counties, **File Type**: csv"
   ]
  },
  {
   "cell_type": "code",
   "execution_count": 13,
   "id": "f7bb454e-97ef-45f0-9304-ab058d807596",
   "metadata": {},
   "outputs": [],
   "source": [
    "# CDC SVI data files\n",
    "# docs: https://www.atsdr.cdc.gov/placeandhealth/svi/documentation/pdf/SVI2020Documentation_08.05.22.pdf\n",
    "svi_dir = year_data / 'CDC_SVI'\n",
    "svi_dir.mkdir(exist_ok=True)"
   ]
  },
  {
   "cell_type": "code",
   "execution_count": 33,
   "id": "2120341a-2963-437d-8702-e8688e2731e6",
   "metadata": {},
   "outputs": [
    {
     "name": "stdout",
     "output_type": "stream",
     "text": [
      "SVI2020_US_census_track\n",
      "-- SVI2020_US_tract.cpg\n",
      "-- SVI2020_US_tract.dbf\n",
      "-- SVI2020_US_tract.prj\n",
      "-- SVI2020_US_tract.sbn\n",
      "-- SVI2020_US_tract.sbx\n",
      "-- SVI2020_US_tract.shp\n",
      "-- SVI2020_US_tract.shp.xml\n",
      "-- SVI2020_US_tract.shx\n",
      "SVI2020_US_census_track.csv\n",
      "SVI2020_US_COUNTY\n",
      "-- SVI2020_US_county.cpg\n",
      "-- SVI2020_US_county.dbf\n",
      "-- SVI2020_US_county.prj\n",
      "-- SVI2020_US_county.sbn\n",
      "-- SVI2020_US_county.sbx\n",
      "-- SVI2020_US_county.shp\n",
      "-- SVI2020_US_county.shp.xml\n",
      "-- SVI2020_US_county.shx\n",
      "SVI2020_US_COUNTY.csv\n"
     ]
    }
   ],
   "source": [
    "for f_obj in svi_dir.glob('*'):\n",
    "    print(f_obj.name)\n",
    "    if f_obj.is_dir():\n",
    "        for f in f_obj.glob('*'):\n",
    "            print(f\"-- {f.name}\")"
   ]
  },
  {
   "cell_type": "markdown",
   "id": "63838d57-026d-42f9-b054-789c5bb5a2c2",
   "metadata": {},
   "source": [
    "## CDC PLACES"
   ]
  },
  {
   "cell_type": "code",
   "execution_count": 15,
   "id": "5cd3948f-8a26-4862-aee0-52bc9ab66e9a",
   "metadata": {},
   "outputs": [],
   "source": [
    "# CDC SVI data files\n",
    "places_dir = year_data / 'CDC_PLACES'\n",
    "places_dir.mkdir(exist_ok=True)"
   ]
  },
  {
   "cell_type": "code",
   "execution_count": 16,
   "id": "39f32e6f-07c8-4066-9b20-3e6e0134c13f",
   "metadata": {},
   "outputs": [
    {
     "name": "stdout",
     "output_type": "stream",
     "text": [
      "PLACES dataset url: https://chronicdata.cdc.gov/browse?q=PLACES%202020\n"
     ]
    }
   ],
   "source": [
    "# set up query url\n",
    "SOURCE = 'CDC PLACES DATA'\n",
    "places_url = sources[SOURCE]\n",
    "places_query_url = places_url + f\"browse?q=PLACES%20{DATA_YEAR}\"\n",
    "print(f\"PLACES dataset url: {places_query_url}\")"
   ]
  },
  {
   "cell_type": "code",
   "execution_count": 24,
   "id": "07c1e59b-823e-4cb5-baab-21ff07f53895",
   "metadata": {},
   "outputs": [],
   "source": [
    "chronic_data = 'https://chronicdata.cdc.gov'\n",
    "resources_url = chronic_data + '/resource'\n",
    "api_url = chronic_data + '/api/views'"
   ]
  },
  {
   "cell_type": "code",
   "execution_count": 18,
   "id": "c079c613-b027-4e28-b4e7-22892b27eacd",
   "metadata": {},
   "outputs": [],
   "source": [
    "dataset_link_class = 'browse2-result-name-link'"
   ]
  },
  {
   "cell_type": "code",
   "execution_count": 19,
   "id": "45a59f0f-66c2-43f8-b3ab-519f59807354",
   "metadata": {},
   "outputs": [],
   "source": [
    "dwnld_sfx = 'rows.csv?accessType=DOWNLOAD'"
   ]
  },
  {
   "cell_type": "code",
   "execution_count": 25,
   "id": "3ba2b6b3-9739-4130-b5ae-454297786928",
   "metadata": {},
   "outputs": [
    {
     "name": "stdout",
     "output_type": "stream",
     "text": [
      "1. dataset: PLACES and 500 Cities: Data Dictionary\n",
      "-- page: https://chronicdata.cdc.gov/500-Cities-Places/PLACES-and-500-Cities-Data-Dictionary/m35w-spkz\n",
      "-- ID: m35w-spkz\n",
      "\n",
      "2. dataset: PLACES: Local Data for Better Health, Place Data 2020 release\n",
      "-- page: https://chronicdata.cdc.gov/500-Cities-Places/PLACES-Local-Data-for-Better-Health-Place-Data-202/q8xq-ygsk\n",
      "-- ID: q8xq-ygsk\n",
      "\n",
      "3. dataset: PLACES: Local Data for Better Health, County Data 2020 release\n",
      "-- page: https://chronicdata.cdc.gov/500-Cities-Places/PLACES-Local-Data-for-Better-Health-County-Data-20/dv4u-3x3q\n",
      "-- ID: dv4u-3x3q\n",
      "\n",
      "4. dataset: PLACES: Local Data for Better Health, ZCTA Data 2020 release\n",
      "-- page: https://chronicdata.cdc.gov/500-Cities-Places/PLACES-Local-Data-for-Better-Health-ZCTA-Data-2020/fbbf-hgkc\n",
      "-- ID: fbbf-hgkc\n",
      "\n",
      "5. dataset: PLACES: Local Data for Better Health, Census Tract Data 2020 release\n",
      "-- page: https://chronicdata.cdc.gov/500-Cities-Places/PLACES-Local-Data-for-Better-Health-Census-Tract-D/4ai3-zynv\n",
      "-- ID: 4ai3-zynv\n",
      "\n",
      "6. dataset: PLACES: ZCTA Data (GIS Friendly Format), 2020 release\n",
      "-- page: https://chronicdata.cdc.gov/500-Cities-Places/PLACES-ZCTA-Data-GIS-Friendly-Format-2020-release/bdsk-unrd\n",
      "-- ID: bdsk-unrd\n",
      "\n",
      "7. dataset: PLACES: Census Tract Data (GIS Friendly Format), 2020 release\n",
      "-- page: https://chronicdata.cdc.gov/500-Cities-Places/PLACES-Census-Tract-Data-GIS-Friendly-Format-2020-/ib3w-k9rq\n",
      "-- ID: ib3w-k9rq\n",
      "\n",
      "8. dataset: PLACES: Place Data (GIS Friendly Format), 2020 release\n",
      "-- page: https://chronicdata.cdc.gov/500-Cities-Places/PLACES-Place-Data-GIS-Friendly-Format-2020-release/ndzg-9nmv\n",
      "-- ID: ndzg-9nmv\n",
      "\n",
      "9. dataset: PLACES: County Data (GIS Friendly Format), 2020 release\n",
      "-- page: https://chronicdata.cdc.gov/500-Cities-Places/PLACES-County-Data-GIS-Friendly-Format-2020-releas/mssc-ksj7\n",
      "-- ID: mssc-ksj7\n",
      "\n"
     ]
    }
   ],
   "source": [
    "# collect dataset pages\n",
    "places_datasets = {}\n",
    "resp = requests.get(places_query_url)\n",
    "if resp.status_code == 200:\n",
    "    soup = BeautifulSoup(resp.content)\n",
    "    n = 0\n",
    "    for ds_link in soup.find_all('a', class_=dataset_link_class):\n",
    "        if DATA_YEAR in ds_link.text or 'Dictionary' in ds_link.text:\n",
    "            n += 1\n",
    "            ds_page = ds_link.get('href')\n",
    "            ds_id = ds_page.split('/')[-1]\n",
    "            places_datasets[ds_link.text] = {\n",
    "                'page': ds_page,\n",
    "                'ds_id': ds_id,\n",
    "                'download': f\"{api_url}/{ds_id}/{dwnld_sfx}\" ,\n",
    "            }\n",
    "            print(f\"{n}. dataset: {ds_link.text}\")\n",
    "            print(f\"-- page: {ds_page}\")\n",
    "            print(f\"-- ID: {ds_id}\\n\")            "
   ]
  },
  {
   "cell_type": "code",
   "execution_count": 21,
   "id": "2642cdd4-4ebe-47ca-90e5-c780efcabb1e",
   "metadata": {},
   "outputs": [],
   "source": [
    "places_sources = places_dir / 'source_files.json'\n",
    "with open(places_sources, 'w') as js_out:\n",
    "    json.dump(places_datasets, js_out, indent=4)"
   ]
  },
  {
   "cell_type": "code",
   "execution_count": 28,
   "id": "5e27dff9-fba8-46e9-8024-b06467f1e4bf",
   "metadata": {},
   "outputs": [],
   "source": [
    "download_type = 'csv'\n",
    "remv = [':', ',', '(', ')', '2020', 'release']"
   ]
  },
  {
   "cell_type": "code",
   "execution_count": 32,
   "id": "2228de7b-688d-4c9b-9abd-df3d453076cc",
   "metadata": {},
   "outputs": [
    {
     "name": "stdout",
     "output_type": "stream",
     "text": [
      "successful response: PLACES and 500 Cities Data Dictionary\n",
      "file written: PLACES-and-500-Cities-Data-Dictionary.csv, size: 0.0 kb\n",
      "successful response: PLACES Local Data for Better Health Place Data  \n",
      "-- chunk 250 written\n",
      "-- chunk 500 written\n",
      "-- chunk 750 written\n",
      "-- chunk 1000 written\n",
      "-- chunk 1250 written\n",
      "-- chunk 1500 written\n",
      "-- chunk 1750 written\n",
      "-- chunk 2000 written\n",
      "-- chunk 2250 written\n",
      "-- chunk 2500 written\n",
      "-- chunk 2750 written\n",
      "-- chunk 3000 written\n",
      "-- chunk 3250 written\n",
      "file written: PLACES-Local-Data-for-Better-Health-Place-Data.csv, size: 376,901.21 kb\n",
      "successful response: PLACES Local Data for Better Health County Data  \n",
      "-- chunk 250 written\n",
      "file written: PLACES-Local-Data-for-Better-Health-County-Data.csv, size: 41,931.67 kb\n",
      "successful response: PLACES Local Data for Better Health ZCTA Data  \n",
      "-- chunk 250 written\n",
      "-- chunk 500 written\n",
      "-- chunk 750 written\n",
      "-- chunk 1000 written\n",
      "-- chunk 1250 written\n",
      "-- chunk 1500 written\n",
      "-- chunk 1750 written\n",
      "file written: PLACES-Local-Data-for-Better-Health-ZCTA-Data.csv, size: 192,930.35 kb\n",
      "successful response: PLACES Local Data for Better Health Census Tract Data  \n",
      "-- chunk 250 written\n",
      "-- chunk 500 written\n",
      "-- chunk 750 written\n",
      "-- chunk 1000 written\n",
      "-- chunk 1250 written\n",
      "-- chunk 1500 written\n",
      "-- chunk 1750 written\n",
      "-- chunk 2000 written\n",
      "-- chunk 2250 written\n",
      "-- chunk 2500 written\n",
      "-- chunk 2750 written\n",
      "-- chunk 3000 written\n",
      "-- chunk 3250 written\n",
      "-- chunk 3500 written\n",
      "-- chunk 3750 written\n",
      "-- chunk 4000 written\n",
      "file written: PLACES-Local-Data-for-Better-Health-Census-Tract-Data.csv, size: 508,202.81 kb\n",
      "successful response: PLACES ZCTA Data GIS Friendly Format  \n",
      "-- chunk 250 written\n",
      "-- chunk 500 written\n",
      "file written: PLACES-ZCTA-Data-GIS-Friendly-Format.csv, size: 18,880.95 kb\n",
      "successful response: PLACES Census Tract Data GIS Friendly Format  \n",
      "-- chunk 250 written\n",
      "-- chunk 500 written\n",
      "-- chunk 750 written\n",
      "-- chunk 1000 written\n",
      "-- chunk 1250 written\n",
      "-- chunk 1500 written\n",
      "file written: PLACES-Census-Tract-Data-GIS-Friendly-Format.csv, size: 44,498.81 kb\n",
      "successful response: PLACES Place Data GIS Friendly Format  \n",
      "-- chunk 250 written\n",
      "-- chunk 500 written\n",
      "-- chunk 750 written\n",
      "-- chunk 1000 written\n",
      "file written: PLACES-Place-Data-GIS-Friendly-Format.csv, size: 32,140.02 kb\n",
      "successful response: PLACES County Data GIS Friendly Format  \n",
      "file written: PLACES-County-Data-GIS-Friendly-Format.csv, size: 3,602.96 kb\n"
     ]
    }
   ],
   "source": [
    "# download data\n",
    "for dataset, ds_info in places_datasets.items():\n",
    "    download_url = ds_info['download']\n",
    "    raw_name = dataset\n",
    "    for rm in remv:\n",
    "        raw_name = raw_name.replace(rm, '')\n",
    "    ds_filenm = '-'.join(raw_name.split())\n",
    "    ds_file = places_dir / f\"{ds_filenm}.{download_type}\"\n",
    "    try:\n",
    "        resp = requests.get(download_url, stream=True)\n",
    "        resp.raise_for_status()\n",
    "        print(f\"successful response: {raw_name}\")\n",
    "        with open(ds_file, 'wb') as f_out:\n",
    "            for n, chunk in enumerate(resp.iter_content(chunk_size=CHUNK_SIZE), start=1):\n",
    "                f_out.write(chunk)\n",
    "                if not n % 250:\n",
    "                    print(f\"-- chunk {n} written\")\n",
    "            file_size = ds_file.stat().st_size / KB\n",
    "            print(f\"file written: {ds_file.name}, size: {round(file_size, 2):,} kb\")\n",
    "    except Exception as e:\n",
    "        print(e)"
   ]
  },
  {
   "cell_type": "markdown",
   "id": "28ef8dbd-83f7-420d-9f5a-d6faa1f0c18c",
   "metadata": {},
   "source": [
    "## EPA AQI\n",
    "\n",
    "Manual download of 2020 Daily AQI data from: <https://aqs.epa.gov/aqsweb/airdata/download_files.html>\n",
    "\n",
    "Documentation: <https://aqs.epa.gov/aqsweb/airdata/FileFormats.html>"
   ]
  },
  {
   "cell_type": "markdown",
   "id": "5680ea5e-ed7c-4dc4-a3e4-684e22f89bf2",
   "metadata": {},
   "source": [
    "## 5. Daily Summary Files\n",
    "\n",
    "### 5.1. Content\n",
    "\n",
    "Each daily summary file contains data for every monitor (sampled parameter) in our database for each day. These files are separated by parameter (or parameter group) to make the sizes more manageable.\n",
    "\n",
    "This file will contain a daily summary record that is:\n",
    "\n",
    "1) The aggregate of all sub-daily measurements taken at the monitor.\n",
    "2) The single sample value if the monitor takes a single, daily sample (e.g., there is only one sample with a 24-hour duration). In this case, the mean and max daily sample will have the same value.\n",
    "\n",
    "The daily summary files contain (at least) one record for each monitor that reported data for the given day. There may be multiple records for the monitor if:\n",
    "\n",
    "* There are calculated sample durations for the pollutant. For example, PM2.5 is sometimes reported as 1-hour samples and EPA calculates 24-hour averages.\n",
    "* There are multiple standards for the pollutant (q.v. pollutant standards).\n",
    "* There were exceptional events associated with some measurements that the monitoring agency has or may request be excluded from comparison to the standard.\n",
    "\n",
    "### 5.2. Format\n",
    "\n",
    "The file is comma separated variables (CSV) with a header row."
   ]
  },
  {
   "cell_type": "markdown",
   "id": "6262577b-5b0d-41b9-906f-5dc76354882a",
   "metadata": {},
   "source": [
    "| Field Position | Field Name | Description |\n",
    "|---|---|---|\n",
    "| 1 | State Code | The FIPS code of the state in which the monitor resides. |\n",
    "| 2 | County Code | The FIPS code of the county in which the monitor resides. |\n",
    "| 3 | Site Num | A unique number within the county identifying the site. |\n",
    "| 4 | Parameter Code | The AQS code corresponding to the parameter measured by the monitor. |\n",
    "| 5 | POC | This is the \"Parameter Occurrence Code\" used to distinguish different instruments that measure the same parameter at the same site. |\n",
    "| 6 | Latitude | The monitoring site's angular distance north of the equator measured in decimal degrees |\n",
    "| 7 | Longitude | The monitoring site's angular distance east of the prime meridian measured in decimal degrees. |\n",
    "| 8 | Datum | The Datum associated with the Latitude and Longitude measures. |\n",
    "| 9 | Parameter Name | The name or description assigned in AQS to the parameter measured by the monitor. Parameters may be pollutants or non-pollutants. |\n",
    "| 10 | Sample Duration | The length of time that air passes through the monitoring device before it is analyzed (measured). So, it represents an averaging period in the atmosphere (for example, a 24-hour sample duration draws ambient air over a collection filter for 24 straight hours). For continuous monitors, it can represent an averaging time of many samples (for example, a 1-hour value may be the average of four one-minute samples collected during each quarter of the hour). |\n",
    "| 11 | Pollutant Standard | A description of the ambient air quality standard rules used to aggregate statistics. (See description at beginning of document.) |\n",
    "| 12 | Date Local | The calendar date for the summary. All daily summaries are for the local standard day (midnight to midnight) at the monitor. |\n",
    "| 13 | Units of Measure | The unit of measure for the parameter. QAD always returns data in the standard units for the parameter. Submitters are allowed to report data in any unit and EPA converts to a standard unit so that we may use the data in calculations. |\n",
    "| 14 | Event Type | Indicates whether data measured during exceptional events are included in the summary. A wildfire is an example of an exceptional event; it is something that affects air quality, but the local agency has no control over. No Events means no events occurred. Events Included means events occurred and the data from them is included in the summary. Events Excluded means that events occurred but data form them is excluded from the summary. Concurred Events Excluded means that events occurred but only EPA concurred exclusions are removed from the summary. If an event occurred for the parameter in question, the data will have multiple records for each monitor. |\n",
    "| 15 | Observation Count | The number of observations (samples) taken during the day. |\n",
    "| 16 | Observation Percent | The percent representing the number of observations taken with respect to the number scheduled to be taken during the day. This is only calculated for monitors where measurements are required (e.g., only certain parameters). |\n",
    "| 17 | Arithmetic Mean | The average (arithmetic mean) value for the day. |\n",
    "| 18 | 1 st Max Value | The highest value for the day. |\n",
    "| 19 | 1 st Max Hour | The hour (on a 24-hour clock) when the highest value for the day (the previous field) was taken. |\n",
    "| 20 | AQI | The Air Quality Index for the day for the pollutant, if applicable. |\n",
    "| 21 | Method Code | An internal system code indicating the method (processes, equipment, and protocols) used in gathering and measuring the sample. The method name is in the next column. |\n",
    "| 22 | Method Name | A short description of the processes, equipment, and protocols used in gathering and measuring the sample. |\n",
    "| 23 | Local Site Name | The name of the site (if any) given by the State, local, or tribal air pollution control agency that operates it. |\n",
    "| 24 | Address | The approximate street address of the monitoring site. |\n",
    "| 25 | State Name | The name of the state where the monitoring site is located. |\n",
    "| 26 | County Name | The name of the county where the monitoring site is located. |\n",
    "| 27 | City Name | The name of the city where the monitoring site is located. This represents the legal incorporated boundaries of cities and not urban areas. |\n",
    "| 28 | CBSA Name | The name of the core bases statistical area (metropolitan area) where the monitoring site is located. |\n",
    "| 29 | Date of Last Change | The date the last time any numeric values in this record were updated in the AQS data system. |"
   ]
  },
  {
   "cell_type": "code",
   "execution_count": null,
   "id": "73b2e2d3-0979-46d4-8a0a-67a2bb26169f",
   "metadata": {},
   "outputs": [],
   "source": []
  }
 ],
 "metadata": {
  "kernelspec": {
   "display_name": "Python 3 (ipykernel)",
   "language": "python",
   "name": "python3"
  },
  "language_info": {
   "codemirror_mode": {
    "name": "ipython",
    "version": 3
   },
   "file_extension": ".py",
   "mimetype": "text/x-python",
   "name": "python",
   "nbconvert_exporter": "python",
   "pygments_lexer": "ipython3",
   "version": "3.9.6"
  }
 },
 "nbformat": 4,
 "nbformat_minor": 5
}
