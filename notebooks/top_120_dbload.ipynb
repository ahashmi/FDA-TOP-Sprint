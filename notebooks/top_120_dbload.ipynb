{
 "cells": [
  {
   "cell_type": "code",
   "execution_count": 4,
   "id": "459a9bac-bd04-4919-9402-5117fe4f53dc",
   "metadata": {},
   "outputs": [],
   "source": [
    "from pathlib import Path\n",
    "import pyodbc\n",
    "import csv\n",
    "from dotenv import dotenv_values"
   ]
  },
  {
   "cell_type": "code",
   "execution_count": 3,
   "id": "0bbce3c1-e21c-408f-a3d2-2cde25e51498",
   "metadata": {},
   "outputs": [],
   "source": [
    "proj_root = Path.cwd().parent"
   ]
  },
  {
   "cell_type": "code",
   "execution_count": 11,
   "id": "68e66265-de64-4222-9c33-cdd97d96778d",
   "metadata": {},
   "outputs": [],
   "source": [
    "config_file = proj_root / '.env'\n",
    "config = dotenv_values(config_file)"
   ]
  },
  {
   "cell_type": "code",
   "execution_count": 12,
   "id": "cfb463b8-db79-4de8-815a-42a4423a5370",
   "metadata": {},
   "outputs": [],
   "source": [
    "server = config['SERVER']\n",
    "db = config['DATABASE']"
   ]
  },
  {
   "cell_type": "code",
   "execution_count": 15,
   "id": "d1481e18-033b-461b-828c-829d185684fa",
   "metadata": {},
   "outputs": [],
   "source": [
    "conn_str_elems = [\n",
    "    'DRIVER={ODBC Driver 17 for SQL Server}',\n",
    "    f\"SERVER={server}\",\n",
    "    f\"DATABASE={db}\",\n",
    "    'Trusted_Connection=yes'\n",
    "]\n",
    "conn_str = ';'.join(conn_str_elems)"
   ]
  },
  {
   "cell_type": "code",
   "execution_count": 16,
   "id": "d422e71d-c423-43b0-abed-a0f9cd1a4291",
   "metadata": {},
   "outputs": [],
   "source": [
    "cnxn = pyodbc.connect(conn_str)\n",
    "cursor = cnxn.cursor()"
   ]
  },
  {
   "cell_type": "code",
   "execution_count": 18,
   "id": "ca4e010e-bb0f-4c36-a837-83dff0bb2022",
   "metadata": {},
   "outputs": [],
   "source": [
    "test_rslt = cursor.execute('SELECT 1')"
   ]
  },
  {
   "cell_type": "code",
   "execution_count": 19,
   "id": "d902bd61-da4e-40c1-a7a4-eb473f6ce9e5",
   "metadata": {},
   "outputs": [
    {
     "name": "stdout",
     "output_type": "stream",
     "text": [
      "connection test successful\n"
     ]
    }
   ],
   "source": [
    "row = test_rslt.fetchone()\n",
    "if row:\n",
    "    print('connection test successful')"
   ]
  },
  {
   "cell_type": "code",
   "execution_count": null,
   "id": "9ff49e94-c8ab-4663-811f-144976d3597d",
   "metadata": {},
   "outputs": [],
   "source": []
  }
 ],
 "metadata": {
  "kernelspec": {
   "display_name": "Python 3 (ipykernel)",
   "language": "python",
   "name": "python3"
  },
  "language_info": {
   "codemirror_mode": {
    "name": "ipython",
    "version": 3
   },
   "file_extension": ".py",
   "mimetype": "text/x-python",
   "name": "python",
   "nbconvert_exporter": "python",
   "pygments_lexer": "ipython3",
   "version": "3.10.0"
  }
 },
 "nbformat": 4,
 "nbformat_minor": 5
}
