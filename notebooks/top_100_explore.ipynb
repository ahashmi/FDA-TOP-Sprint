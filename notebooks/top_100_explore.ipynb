{
 "cells": [
  {
   "cell_type": "code",
   "execution_count": 1,
   "id": "ef835556-6070-4163-a363-109f692d16e0",
   "metadata": {},
   "outputs": [],
   "source": [
    "from pathlib import Path\n",
    "import pandas as pd\n",
    "import numpy as np\n",
    "import plotly.express as px"
   ]
  },
  {
   "cell_type": "code",
   "execution_count": 2,
   "id": "d1993588-60c9-4ea7-9763-4adb1ed6e4e2",
   "metadata": {},
   "outputs": [],
   "source": [
    "data_dir = Path.cwd().parent / 'DATA'"
   ]
  },
  {
   "cell_type": "code",
   "execution_count": 3,
   "id": "38a016c5-4b00-456e-bee4-6395cc67d4c1",
   "metadata": {},
   "outputs": [],
   "source": [
    "YEAR = '2020'\n",
    "year_data = data_dir / YEAR"
   ]
  },
  {
   "cell_type": "code",
   "execution_count": 13,
   "id": "bb2c6eb5-cabf-4048-b98b-326cfba1b651",
   "metadata": {},
   "outputs": [
    {
     "name": "stdout",
     "output_type": "stream",
     "text": [
      "data sources: ['AHRQ', 'CDC_PLACES', 'CDC_SVI', 'EPA_AQI']\n"
     ]
    }
   ],
   "source": [
    "sources = {\n",
    "    f_obj.name: f_obj \n",
    "    for f_obj in year_data.glob('*') \n",
    "    if f_obj.is_dir() and f_obj.name[0] != '.'\n",
    "}\n",
    "print(f\"data sources: {list(sources.keys())}\")"
   ]
  },
  {
   "cell_type": "markdown",
   "id": "e8bd541c-b7b1-4560-900b-b9e4bcb54f5f",
   "metadata": {},
   "source": [
    "## NOTE: looking to merge data along US counties"
   ]
  },
  {
   "cell_type": "code",
   "execution_count": 28,
   "id": "4123ea56-cb3b-4947-907d-57f389ecdba0",
   "metadata": {},
   "outputs": [
    {
     "name": "stdout",
     "output_type": "stream",
     "text": [
      "AHRQ\n",
      "  SDOH_2020_COUNTY_1_0.XLSX\n",
      "CDC_PLACES\n",
      "  PLACES-Local-Data-for-Better-Health-County-Data.csv\n",
      "CDC_SVI\n",
      "  SVI2020_US_COUNTY.csv\n",
      "EPA_AQI\n",
      "  daily_aqi_by_county_2020.csv\n"
     ]
    },
    {
     "data": {
      "text/plain": [
       "{'AHRQ': WindowsPath('C:/Users/AliHashmi/Desktop/Development/FDA-TOP-Sprint/DATA/2020/AHRQ/SDOH_2020_COUNTY_1_0.XLSX'),\n",
       " 'CDC_PLACES': WindowsPath('C:/Users/AliHashmi/Desktop/Development/FDA-TOP-Sprint/DATA/2020/CDC_PLACES/PLACES-Local-Data-for-Better-Health-County-Data.csv'),\n",
       " 'CDC_SVI': WindowsPath('C:/Users/AliHashmi/Desktop/Development/FDA-TOP-Sprint/DATA/2020/CDC_SVI/SVI2020_US_COUNTY.csv'),\n",
       " 'EPA_AQI': WindowsPath('C:/Users/AliHashmi/Desktop/Development/FDA-TOP-Sprint/DATA/2020/EPA_AQI/daily_aqi_by_county_2020.csv')}"
      ]
     },
     "execution_count": 28,
     "metadata": {},
     "output_type": "execute_result"
    }
   ],
   "source": [
    "source_files = {}\n",
    "for src, src_dir in sources.items():\n",
    "    print(src)\n",
    "    for f_obj in src_dir.glob('*'):\n",
    "        if 'COUNTY' in f_obj.name.upper() and 'GIS' not in f_obj.name.upper():\n",
    "            if f_obj.suffix.upper() in ['.XLSX', '.CSV']:\n",
    "                print(' ', f_obj.name)\n",
    "                source_files[src] = f_obj\n",
    "source_files"
   ]
  },
  {
   "cell_type": "code",
   "execution_count": 32,
   "id": "c692d105-438d-44c2-be39-efd60551aa71",
   "metadata": {},
   "outputs": [
    {
     "name": "stdout",
     "output_type": "stream",
     "text": [
      "AHRQ data: 3229 rows, 682 cols\n",
      "Index(['YEAR', 'COUNTYFIPS', 'STATEFIPS', 'STATE', 'COUNTY', 'REGION',\n",
      "       'TERRITORY', 'ACS_TOT_POP_WT', 'ACS_TOT_POP_US_ABOVE1',\n",
      "       'ACS_TOT_POP_ABOVE5',\n",
      "       ...\n",
      "       'POS_TOT_HOSP_AMBULANCE', 'POS_HOSP_AMBULANCE_RATE',\n",
      "       'POS_TOT_HOSP_CHEMO', 'POS_HOSP_CHEMO_RATE', 'POS_TOT_HOSP_ED',\n",
      "       'POS_HOSP_ED_RATE', 'POS_PCT_HOSP_FOR_PROFIT',\n",
      "       'POS_PCT_HOSP_NON_PROFIT', 'POS_PCT_HOSP_GOV', 'CEN_AIAN_NH_IND'],\n",
      "      dtype='object', length=682)\n",
      "CDC_PLACES data: 1000 rows, 21 cols\n",
      "Index(['year', 'stateabbr', 'statedesc', 'locationname', 'datasource',\n",
      "       'category', 'measure', 'data_value_unit', 'data_value_type',\n",
      "       'data_value', 'data_value_footnote_symbol', 'data_value_footnote',\n",
      "       'low_confidence_limit', 'high_confidence_limit', 'totalpopulation',\n",
      "       'latitude', 'categoryid', 'measureid', 'datavaluetypeid',\n",
      "       'short_question_text', 'geolocation'],\n",
      "      dtype='object')\n",
      "CDC_SVI data: 3143 rows, 158 cols\n",
      "Index(['ST', 'STATE', 'ST_ABBR', 'STCNTY', 'COUNTY', 'FIPS', 'LOCATION',\n",
      "       'AREA_SQMI', 'E_TOTPOP', 'M_TOTPOP',\n",
      "       ...\n",
      "       'EP_ASIAN', 'MP_ASIAN', 'EP_AIAN', 'MP_AIAN', 'EP_NHPI', 'MP_NHPI',\n",
      "       'EP_TWOMORE', 'MP_TWOMORE', 'EP_OTHERRACE', 'MP_OTHERRACE'],\n",
      "      dtype='object', length=158)\n",
      "EPA_AQI data: 324338 rows, 10 cols\n",
      "Index(['State Name', 'county Name', 'State Code', 'County Code', 'Date', 'AQI',\n",
      "       'Category', 'Defining Parameter', 'Defining Site',\n",
      "       'Number of Sites Reporting'],\n",
      "      dtype='object')\n"
     ]
    }
   ],
   "source": [
    "for src, src_file in source_files.items():\n",
    "    if src_file.suffix.upper() == '.XLSX':\n",
    "        xl_file = pd.ExcelFile(src_file)\n",
    "        src_data = pd.read_excel(xl_file, sheet_name='Data')\n",
    "    elif src_file.suffix.upper() == '.CSV':\n",
    "        src_data = pd.read_csv(src_file)\n",
    "    n_rows, n_cols = src_data.shape\n",
    "    print(f\"{src} data: {n_rows} rows, {n_cols} cols\")\n",
    "    print(src_data.columns)"
   ]
  },
  {
   "cell_type": "code",
   "execution_count": null,
   "id": "e3ffc594-fe57-434b-a81a-39872ed174b7",
   "metadata": {},
   "outputs": [],
   "source": []
  }
 ],
 "metadata": {
  "kernelspec": {
   "display_name": "Python 3 (ipykernel)",
   "language": "python",
   "name": "python3"
  },
  "language_info": {
   "codemirror_mode": {
    "name": "ipython",
    "version": 3
   },
   "file_extension": ".py",
   "mimetype": "text/x-python",
   "name": "python",
   "nbconvert_exporter": "python",
   "pygments_lexer": "ipython3",
   "version": "3.10.0"
  }
 },
 "nbformat": 4,
 "nbformat_minor": 5
}
