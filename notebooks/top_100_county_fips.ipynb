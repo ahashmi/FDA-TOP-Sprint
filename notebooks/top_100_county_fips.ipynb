{
 "cells": [
  {
   "cell_type": "code",
   "execution_count": 9,
   "id": "ef835556-6070-4163-a363-109f692d16e0",
   "metadata": {},
   "outputs": [],
   "source": [
    "from pathlib import Path\n",
    "import pandas as pd\n",
    "import numpy as np\n",
    "import plotly.express as px\n",
    "from IPython.display import display\n",
    "import csv\n",
    "import json\n",
    "import us"
   ]
  },
  {
   "cell_type": "code",
   "execution_count": 10,
   "id": "d1993588-60c9-4ea7-9763-4adb1ed6e4e2",
   "metadata": {},
   "outputs": [],
   "source": [
    "data_dir = Path.cwd().parent / 'DATA'"
   ]
  },
  {
   "cell_type": "code",
   "execution_count": 11,
   "id": "38a016c5-4b00-456e-bee4-6395cc67d4c1",
   "metadata": {},
   "outputs": [],
   "source": [
    "YEAR = '2020'\n",
    "year_data = data_dir / YEAR"
   ]
  },
  {
   "cell_type": "code",
   "execution_count": 12,
   "id": "bb2c6eb5-cabf-4048-b98b-326cfba1b651",
   "metadata": {},
   "outputs": [
    {
     "name": "stdout",
     "output_type": "stream",
     "text": [
      "data sources: ['AHRQ', 'CDC_PLACES', 'CDC_SVI', 'EPA_AQI']\n"
     ]
    }
   ],
   "source": [
    "sources = {\n",
    "    f_obj.name: f_obj \n",
    "    for f_obj in year_data.glob('*') \n",
    "    if f_obj.is_dir() and f_obj.name[0] != '.'\n",
    "}\n",
    "print(f\"data sources: {list(sources.keys())}\")"
   ]
  },
  {
   "cell_type": "markdown",
   "id": "2457038d-a0c6-41bf-8708-d600ad60767f",
   "metadata": {},
   "source": [
    "## Reference: County FIPS to County Name\n",
    "Interactive page, plus multiple download formats  \n",
    "<https://coastwatch.pfeg.noaa.gov/erddap/convert/fipscounty.html>"
   ]
  },
  {
   "cell_type": "code",
   "execution_count": 34,
   "id": "a1670d31-bf99-4f65-bb83-41bdc6ce878b",
   "metadata": {},
   "outputs": [
    {
     "name": "stdout",
     "output_type": "stream",
     "text": [
      "dict_keys(['columnNames', 'columnTypes', 'rows'])\n",
      "code entries loaded: 3360\n"
     ]
    }
   ],
   "source": [
    "# load crosswalk\n",
    "fips_xref = 'FipsCountyCodes'\n",
    "fips_xref_js = data_dir / f\"{fips_xref}.json\"\n",
    "with open(fips_xref_js, 'r') as js_in:\n",
    "    fips_raw = json.load(js_in)['table']\n",
    "print(fips_raw.keys())\n",
    "fips_codes = fips_raw['rows']\n",
    "print(f\"code entries loaded: {len(fips_codes)}\")"
   ]
  },
  {
   "cell_type": "code",
   "execution_count": 35,
   "id": "109f7612-797b-4f18-82e3-54a8874f67d7",
   "metadata": {},
   "outputs": [],
   "source": [
    "st_abbr_names = us.states.mapping('abbr', 'name')"
   ]
  },
  {
   "cell_type": "code",
   "execution_count": 36,
   "id": "bdaa184b-25e8-420f-b6fe-771cfebf4114",
   "metadata": {},
   "outputs": [
    {
     "name": "stdout",
     "output_type": "stream",
     "text": [
      "skipping abbr: FM, fips: 64000\n",
      "skipping abbr: MH, fips: 68000\n",
      "skipping abbr: PW, fips: 70000\n",
      "skipping abbr: UM, fips: 74000\n",
      "loaded states/territories: 55\n",
      "loaded counties: 3301\n",
      "counts: n_skip=4, n_county=3301, n_state=55\n",
      "check: True\n"
     ]
    }
   ],
   "source": [
    "states_terr = {}\n",
    "counties = {}\n",
    "n_skip, n_county, n_state = 0, 0, 0\n",
    "for code, label in fips_codes:\n",
    "    if ',' not in label:\n",
    "        st_name = st_abbr_names.get(label, None)\n",
    "        if st_name is None:\n",
    "            print(f\"skipping abbr: {label}, fips: {code}\")\n",
    "            n_skip += 1\n",
    "        else:\n",
    "            states_terr[label] = {\n",
    "                'fips': code[0:2],\n",
    "                'name': st_name,\n",
    "            }\n",
    "            n_state += 1\n",
    "    else:\n",
    "        if label in counties:\n",
    "            print(f\"found: {label}\")\n",
    "        counties[label] = code\n",
    "        n_county += 1\n",
    "print(f\"loaded states/territories: {len(states_terr)}\")\n",
    "print(f\"loaded counties: {len(counties)}\")\n",
    "print(f\"counts: {n_skip=}, {n_county=}, {n_state=}\")\n",
    "print(f\"check: {sum([len(states_terr), len(counties)]) == sum([n_county, n_state])}\")"
   ]
  },
  {
   "cell_type": "markdown",
   "id": "e8bd541c-b7b1-4560-900b-b9e4bcb54f5f",
   "metadata": {},
   "source": [
    "## NOTE: looking to merge data along US counties"
   ]
  },
  {
   "cell_type": "code",
   "execution_count": 16,
   "id": "4123ea56-cb3b-4947-907d-57f389ecdba0",
   "metadata": {},
   "outputs": [
    {
     "name": "stdout",
     "output_type": "stream",
     "text": [
      "AHRQ\n",
      "  SDOH_2020_COUNTY_1_0.XLSX\n",
      "CDC_PLACES\n",
      "  PLACES-Local-Data-for-Better-Health-County-Data.csv\n",
      "  PLACES__Local_Data_for_Better_Health__County_Data_2020_release.csv\n",
      "CDC_SVI\n",
      "  SVI2020_US_COUNTY.csv\n",
      "EPA_AQI\n",
      "  daily_aqi_by_county_2020.csv\n"
     ]
    },
    {
     "data": {
      "text/plain": [
       "{'AHRQ': {'filename': 'SDOH_2020_COUNTY_1_0.XLSX'},\n",
       " 'CDC_PLACES': {'filename': 'PLACES__Local_Data_for_Better_Health__County_Data_2020_release.csv'},\n",
       " 'CDC_SVI': {'filename': 'SVI2020_US_COUNTY.csv'},\n",
       " 'EPA_AQI': {'filename': 'daily_aqi_by_county_2020.csv'}}"
      ]
     },
     "execution_count": 16,
     "metadata": {},
     "output_type": "execute_result"
    }
   ],
   "source": [
    "source_files = {}\n",
    "for src, src_dir in sources.items():\n",
    "    print(src)\n",
    "    for f_obj in src_dir.glob('*'):\n",
    "        if 'COUNTY' in f_obj.name.upper() and 'GIS' not in f_obj.name.upper():\n",
    "            if f_obj.suffix.upper() in ['.XLSX', '.CSV']:\n",
    "                print(' ', f_obj.name)\n",
    "                source_files[src] = {\n",
    "                    'filename': f_obj.name,\n",
    "                }\n",
    "source_files"
   ]
  },
  {
   "cell_type": "code",
   "execution_count": 17,
   "id": "458332ee-762b-477a-ab7d-9811ec57d4e5",
   "metadata": {},
   "outputs": [],
   "source": [
    "KEYCOLS = ['COUNTY', 'FIPS', 'LOCATION', 'STATE', 'ST_']"
   ]
  },
  {
   "cell_type": "code",
   "execution_count": 18,
   "id": "c692d105-438d-44c2-be39-efd60551aa71",
   "metadata": {},
   "outputs": [
    {
     "name": "stdout",
     "output_type": "stream",
     "text": [
      "AHRQ loading...\n",
      "data: 3229 rows, 682 cols\n"
     ]
    },
    {
     "data": {
      "text/html": [
       "<div>\n",
       "<style scoped>\n",
       "    .dataframe tbody tr th:only-of-type {\n",
       "        vertical-align: middle;\n",
       "    }\n",
       "\n",
       "    .dataframe tbody tr th {\n",
       "        vertical-align: top;\n",
       "    }\n",
       "\n",
       "    .dataframe thead th {\n",
       "        text-align: right;\n",
       "    }\n",
       "</style>\n",
       "<table border=\"1\" class=\"dataframe\">\n",
       "  <thead>\n",
       "    <tr style=\"text-align: right;\">\n",
       "      <th></th>\n",
       "      <th>COUNTYFIPS</th>\n",
       "      <th>STATEFIPS</th>\n",
       "      <th>STATE</th>\n",
       "      <th>COUNTY</th>\n",
       "    </tr>\n",
       "  </thead>\n",
       "  <tbody>\n",
       "    <tr>\n",
       "      <th>0</th>\n",
       "      <td>1001</td>\n",
       "      <td>1</td>\n",
       "      <td>Alabama</td>\n",
       "      <td>Autauga County</td>\n",
       "    </tr>\n",
       "    <tr>\n",
       "      <th>1</th>\n",
       "      <td>1003</td>\n",
       "      <td>1</td>\n",
       "      <td>Alabama</td>\n",
       "      <td>Baldwin County</td>\n",
       "    </tr>\n",
       "    <tr>\n",
       "      <th>2</th>\n",
       "      <td>1005</td>\n",
       "      <td>1</td>\n",
       "      <td>Alabama</td>\n",
       "      <td>Barbour County</td>\n",
       "    </tr>\n",
       "    <tr>\n",
       "      <th>3</th>\n",
       "      <td>1007</td>\n",
       "      <td>1</td>\n",
       "      <td>Alabama</td>\n",
       "      <td>Bibb County</td>\n",
       "    </tr>\n",
       "    <tr>\n",
       "      <th>4</th>\n",
       "      <td>1009</td>\n",
       "      <td>1</td>\n",
       "      <td>Alabama</td>\n",
       "      <td>Blount County</td>\n",
       "    </tr>\n",
       "  </tbody>\n",
       "</table>\n",
       "</div>"
      ],
      "text/plain": [
       "   COUNTYFIPS  STATEFIPS    STATE          COUNTY\n",
       "0        1001          1  Alabama  Autauga County\n",
       "1        1003          1  Alabama  Baldwin County\n",
       "2        1005          1  Alabama  Barbour County\n",
       "3        1007          1  Alabama     Bibb County\n",
       "4        1009          1  Alabama   Blount County"
      ]
     },
     "metadata": {},
     "output_type": "display_data"
    },
    {
     "name": "stdout",
     "output_type": "stream",
     "text": [
      "\n",
      "CDC_PLACES loading...\n",
      "data: 176008 rows, 21 cols\n"
     ]
    },
    {
     "data": {
      "text/html": [
       "<div>\n",
       "<style scoped>\n",
       "    .dataframe tbody tr th:only-of-type {\n",
       "        vertical-align: middle;\n",
       "    }\n",
       "\n",
       "    .dataframe tbody tr th {\n",
       "        vertical-align: top;\n",
       "    }\n",
       "\n",
       "    .dataframe thead th {\n",
       "        text-align: right;\n",
       "    }\n",
       "</style>\n",
       "<table border=\"1\" class=\"dataframe\">\n",
       "  <thead>\n",
       "    <tr style=\"text-align: right;\">\n",
       "      <th></th>\n",
       "      <th>StateAbbr</th>\n",
       "      <th>StateDesc</th>\n",
       "      <th>LocationName</th>\n",
       "    </tr>\n",
       "  </thead>\n",
       "  <tbody>\n",
       "    <tr>\n",
       "      <th>0</th>\n",
       "      <td>US</td>\n",
       "      <td>United States</td>\n",
       "      <td>NaN</td>\n",
       "    </tr>\n",
       "    <tr>\n",
       "      <th>1</th>\n",
       "      <td>US</td>\n",
       "      <td>United States</td>\n",
       "      <td>NaN</td>\n",
       "    </tr>\n",
       "    <tr>\n",
       "      <th>2</th>\n",
       "      <td>US</td>\n",
       "      <td>United States</td>\n",
       "      <td>NaN</td>\n",
       "    </tr>\n",
       "    <tr>\n",
       "      <th>3</th>\n",
       "      <td>US</td>\n",
       "      <td>United States</td>\n",
       "      <td>NaN</td>\n",
       "    </tr>\n",
       "    <tr>\n",
       "      <th>4</th>\n",
       "      <td>US</td>\n",
       "      <td>United States</td>\n",
       "      <td>NaN</td>\n",
       "    </tr>\n",
       "  </tbody>\n",
       "</table>\n",
       "</div>"
      ],
      "text/plain": [
       "  StateAbbr      StateDesc LocationName\n",
       "0        US  United States          NaN\n",
       "1        US  United States          NaN\n",
       "2        US  United States          NaN\n",
       "3        US  United States          NaN\n",
       "4        US  United States          NaN"
      ]
     },
     "metadata": {},
     "output_type": "display_data"
    },
    {
     "name": "stdout",
     "output_type": "stream",
     "text": [
      "\n",
      "CDC_SVI loading...\n",
      "data: 3143 rows, 158 cols\n"
     ]
    },
    {
     "data": {
      "text/html": [
       "<div>\n",
       "<style scoped>\n",
       "    .dataframe tbody tr th:only-of-type {\n",
       "        vertical-align: middle;\n",
       "    }\n",
       "\n",
       "    .dataframe tbody tr th {\n",
       "        vertical-align: top;\n",
       "    }\n",
       "\n",
       "    .dataframe thead th {\n",
       "        text-align: right;\n",
       "    }\n",
       "</style>\n",
       "<table border=\"1\" class=\"dataframe\">\n",
       "  <thead>\n",
       "    <tr style=\"text-align: right;\">\n",
       "      <th></th>\n",
       "      <th>STATE</th>\n",
       "      <th>ST_ABBR</th>\n",
       "      <th>COUNTY</th>\n",
       "      <th>FIPS</th>\n",
       "      <th>LOCATION</th>\n",
       "    </tr>\n",
       "  </thead>\n",
       "  <tbody>\n",
       "    <tr>\n",
       "      <th>0</th>\n",
       "      <td>Alabama</td>\n",
       "      <td>AL</td>\n",
       "      <td>Autauga</td>\n",
       "      <td>1001</td>\n",
       "      <td>Autauga County, Alabama</td>\n",
       "    </tr>\n",
       "    <tr>\n",
       "      <th>1</th>\n",
       "      <td>Alabama</td>\n",
       "      <td>AL</td>\n",
       "      <td>Baldwin</td>\n",
       "      <td>1003</td>\n",
       "      <td>Baldwin County, Alabama</td>\n",
       "    </tr>\n",
       "    <tr>\n",
       "      <th>2</th>\n",
       "      <td>Alabama</td>\n",
       "      <td>AL</td>\n",
       "      <td>Barbour</td>\n",
       "      <td>1005</td>\n",
       "      <td>Barbour County, Alabama</td>\n",
       "    </tr>\n",
       "    <tr>\n",
       "      <th>3</th>\n",
       "      <td>Alabama</td>\n",
       "      <td>AL</td>\n",
       "      <td>Bibb</td>\n",
       "      <td>1007</td>\n",
       "      <td>Bibb County, Alabama</td>\n",
       "    </tr>\n",
       "    <tr>\n",
       "      <th>4</th>\n",
       "      <td>Alabama</td>\n",
       "      <td>AL</td>\n",
       "      <td>Blount</td>\n",
       "      <td>1009</td>\n",
       "      <td>Blount County, Alabama</td>\n",
       "    </tr>\n",
       "  </tbody>\n",
       "</table>\n",
       "</div>"
      ],
      "text/plain": [
       "     STATE ST_ABBR   COUNTY  FIPS                 LOCATION\n",
       "0  Alabama      AL  Autauga  1001  Autauga County, Alabama\n",
       "1  Alabama      AL  Baldwin  1003  Baldwin County, Alabama\n",
       "2  Alabama      AL  Barbour  1005  Barbour County, Alabama\n",
       "3  Alabama      AL     Bibb  1007     Bibb County, Alabama\n",
       "4  Alabama      AL   Blount  1009   Blount County, Alabama"
      ]
     },
     "metadata": {},
     "output_type": "display_data"
    },
    {
     "name": "stdout",
     "output_type": "stream",
     "text": [
      "\n",
      "EPA_AQI loading...\n",
      "data: 324338 rows, 10 cols\n"
     ]
    },
    {
     "data": {
      "text/html": [
       "<div>\n",
       "<style scoped>\n",
       "    .dataframe tbody tr th:only-of-type {\n",
       "        vertical-align: middle;\n",
       "    }\n",
       "\n",
       "    .dataframe tbody tr th {\n",
       "        vertical-align: top;\n",
       "    }\n",
       "\n",
       "    .dataframe thead th {\n",
       "        text-align: right;\n",
       "    }\n",
       "</style>\n",
       "<table border=\"1\" class=\"dataframe\">\n",
       "  <thead>\n",
       "    <tr style=\"text-align: right;\">\n",
       "      <th></th>\n",
       "      <th>State Name</th>\n",
       "      <th>county Name</th>\n",
       "      <th>State Code</th>\n",
       "      <th>County Code</th>\n",
       "    </tr>\n",
       "  </thead>\n",
       "  <tbody>\n",
       "    <tr>\n",
       "      <th>0</th>\n",
       "      <td>Alabama</td>\n",
       "      <td>Baldwin</td>\n",
       "      <td>1</td>\n",
       "      <td>3</td>\n",
       "    </tr>\n",
       "    <tr>\n",
       "      <th>1</th>\n",
       "      <td>Alabama</td>\n",
       "      <td>Baldwin</td>\n",
       "      <td>1</td>\n",
       "      <td>3</td>\n",
       "    </tr>\n",
       "    <tr>\n",
       "      <th>2</th>\n",
       "      <td>Alabama</td>\n",
       "      <td>Baldwin</td>\n",
       "      <td>1</td>\n",
       "      <td>3</td>\n",
       "    </tr>\n",
       "    <tr>\n",
       "      <th>3</th>\n",
       "      <td>Alabama</td>\n",
       "      <td>Baldwin</td>\n",
       "      <td>1</td>\n",
       "      <td>3</td>\n",
       "    </tr>\n",
       "    <tr>\n",
       "      <th>4</th>\n",
       "      <td>Alabama</td>\n",
       "      <td>Baldwin</td>\n",
       "      <td>1</td>\n",
       "      <td>3</td>\n",
       "    </tr>\n",
       "  </tbody>\n",
       "</table>\n",
       "</div>"
      ],
      "text/plain": [
       "  State Name county Name  State Code  County Code\n",
       "0    Alabama     Baldwin           1            3\n",
       "1    Alabama     Baldwin           1            3\n",
       "2    Alabama     Baldwin           1            3\n",
       "3    Alabama     Baldwin           1            3\n",
       "4    Alabama     Baldwin           1            3"
      ]
     },
     "metadata": {},
     "output_type": "display_data"
    },
    {
     "name": "stdout",
     "output_type": "stream",
     "text": [
      "\n"
     ]
    }
   ],
   "source": [
    "for src, src_info in source_files.items():\n",
    "    print(f\"{src} loading...\")\n",
    "    keys = []\n",
    "    src_file = year_data / src / src_info['filename']\n",
    "    if src_file.suffix.upper() == '.XLSX':\n",
    "        xl_file = pd.ExcelFile(src_file)\n",
    "        src_data = pd.read_excel(xl_file, sheet_name='Data')\n",
    "    elif src_file.suffix.upper() == '.CSV':\n",
    "        src_data = pd.read_csv(src_file)\n",
    "    n_rows, n_cols = src_data.shape\n",
    "    print(f\"data: {n_rows} rows, {n_cols} cols\")\n",
    "    src_info['data'] = src_data.copy()\n",
    "    for col in src_data.columns:\n",
    "        for keycol in KEYCOLS:\n",
    "            if keycol in col.upper():\n",
    "                keys.append(col)\n",
    "                break\n",
    "    if src == 'AHRQ':\n",
    "        keys = [k for k in keys if '_' not in k]\n",
    "    source_files[src]['key_cols'] = keys\n",
    "    display(src_data[keys].head())\n",
    "    print()"
   ]
  },
  {
   "cell_type": "markdown",
   "id": "2399a2ea-65d0-413f-a06f-264023adce63",
   "metadata": {},
   "source": [
    "## Normalize data on 5-digit State + County FIPS code (w/ leading 0)"
   ]
  },
  {
   "cell_type": "code",
   "execution_count": 74,
   "id": "d72611c5-40ea-4fdd-a8a6-1dfae43b53f8",
   "metadata": {},
   "outputs": [],
   "source": [
    "indeces = {}"
   ]
  },
  {
   "cell_type": "markdown",
   "id": "b82b1969-15a0-4e9c-bc51-2bd5c572bff1",
   "metadata": {},
   "source": [
    "### CDC PLACES"
   ]
  },
  {
   "cell_type": "code",
   "execution_count": 44,
   "id": "a6b62891-2522-487f-affc-7b58e61d86ec",
   "metadata": {},
   "outputs": [],
   "source": [
    "# investigate CDC PLACES loactions\n",
    "cdc_key_cols = source_files['CDC_PLACES']['key_cols']\n",
    "cdc_keys = source_files['CDC_PLACES']['data'][cdc_key_cols].copy()"
   ]
  },
  {
   "cell_type": "code",
   "execution_count": 45,
   "id": "9487f690-31f5-4f55-91da-da99e401127d",
   "metadata": {},
   "outputs": [
    {
     "name": "stdout",
     "output_type": "stream",
     "text": [
      "unique states: 52 ['AK', 'AL', 'AR', 'AZ', 'CA', 'CO', 'CT', 'DC', 'DE', 'FL', 'GA', 'HI', 'IA', 'ID', 'IL', 'IN', 'KS', 'KY', 'LA', 'MA', 'MD', 'ME', 'MI', 'MN', 'MO', 'MS', 'MT', 'NC', 'ND', 'NE', 'NH', 'NJ', 'NM', 'NV', 'NY', 'OH', 'OK', 'OR', 'PA', 'RI', 'SC', 'SD', 'TN', 'TX', 'US', 'UT', 'VA', 'VT', 'WA', 'WI', 'WV', 'WY']\n",
      "-- 50 states plus 'US' & 'DC'\n"
     ]
    }
   ],
   "source": [
    "cdc_states = cdc_keys['StateAbbr'].unique()\n",
    "print(f\"unique states: {len(cdc_states)}\", sorted(cdc_states))\n",
    "print(\"-- 50 states plus 'US' & 'DC'\")"
   ]
  },
  {
   "cell_type": "code",
   "execution_count": 46,
   "id": "ad59f33a-ecbf-461d-bf9f-af75703fcada",
   "metadata": {},
   "outputs": [],
   "source": [
    "stnames_fips = {stnm:data['fips'] for stnm,data in states_terr.items()}"
   ]
  },
  {
   "cell_type": "code",
   "execution_count": 47,
   "id": "f7cab812-5699-4dd5-a573-46e04be5c957",
   "metadata": {},
   "outputs": [],
   "source": [
    "# normalize location names\n",
    "cdc_keys['ST_FIPS'] = cdc_keys['StateAbbr'].map(stnames_fips)\n",
    "cdc_keys['STATE_COUNTY'] = cdc_keys['StateAbbr'] + ', ' + cdc_keys['LocationName']\n",
    "cdc_keys['STATE_COUNTY'] = cdc_keys['STATE_COUNTY'].replace('NM, DoÃ±a Ana', 'NM, Dona Ana')"
   ]
  },
  {
   "cell_type": "code",
   "execution_count": 48,
   "id": "64341f09-1f2f-4d3f-994b-89aab0f41198",
   "metadata": {},
   "outputs": [],
   "source": [
    "# add county codes\n",
    "cdc_keys['COUNTY_FIPS'] = cdc_keys['STATE_COUNTY'].map(counties)\n",
    "cdc_keys['COUNTY_FIPS'] = cdc_keys['COUNTY_FIPS'].fillna('00000')"
   ]
  },
  {
   "cell_type": "code",
   "execution_count": 52,
   "id": "359e9343-bac6-4930-8b05-ec2c41ab8657",
   "metadata": {},
   "outputs": [
    {
     "name": "stdout",
     "output_type": "stream",
     "text": [
      "missing county FIPS codes: 0\n"
     ]
    }
   ],
   "source": [
    "# check for missing codes\n",
    "missing_codes = cdc_keys[cdc_keys['COUNTY_FIPS'].isnull()].copy()\n",
    "print(f\"missing county FIPS codes: {missing_codes.shape[0]}\")"
   ]
  },
  {
   "cell_type": "code",
   "execution_count": 50,
   "id": "a207139a-1aaa-4c49-8538-344226d184f2",
   "metadata": {},
   "outputs": [
    {
     "data": {
      "text/plain": [
       "Series([], Name: STATE_COUNTY, dtype: int64)"
      ]
     },
     "execution_count": 50,
     "metadata": {},
     "output_type": "execute_result"
    }
   ],
   "source": [
    "missing_codes['STATE_COUNTY'].value_counts(dropna=False)"
   ]
  },
  {
   "cell_type": "code",
   "execution_count": 63,
   "id": "56326649-c01d-42dd-891c-1be50cf00345",
   "metadata": {},
   "outputs": [
    {
     "data": {
      "text/html": [
       "<div>\n",
       "<style scoped>\n",
       "    .dataframe tbody tr th:only-of-type {\n",
       "        vertical-align: middle;\n",
       "    }\n",
       "\n",
       "    .dataframe tbody tr th {\n",
       "        vertical-align: top;\n",
       "    }\n",
       "\n",
       "    .dataframe thead th {\n",
       "        text-align: right;\n",
       "    }\n",
       "</style>\n",
       "<table border=\"1\" class=\"dataframe\">\n",
       "  <thead>\n",
       "    <tr style=\"text-align: right;\">\n",
       "      <th></th>\n",
       "      <th>StateAbbr</th>\n",
       "      <th>StateDesc</th>\n",
       "      <th>LocationName</th>\n",
       "      <th>ST_FIPS</th>\n",
       "      <th>STATE_COUNTY</th>\n",
       "      <th>COUNTY_FIPS</th>\n",
       "    </tr>\n",
       "  </thead>\n",
       "  <tbody>\n",
       "    <tr>\n",
       "      <th>49</th>\n",
       "      <td>AL</td>\n",
       "      <td>Alabama</td>\n",
       "      <td>Autauga</td>\n",
       "      <td>01</td>\n",
       "      <td>AL, Autauga</td>\n",
       "      <td>01001</td>\n",
       "    </tr>\n",
       "    <tr>\n",
       "      <th>50</th>\n",
       "      <td>AL</td>\n",
       "      <td>Alabama</td>\n",
       "      <td>Autauga</td>\n",
       "      <td>01</td>\n",
       "      <td>AL, Autauga</td>\n",
       "      <td>01001</td>\n",
       "    </tr>\n",
       "    <tr>\n",
       "      <th>51</th>\n",
       "      <td>AL</td>\n",
       "      <td>Alabama</td>\n",
       "      <td>Barbour</td>\n",
       "      <td>01</td>\n",
       "      <td>AL, Barbour</td>\n",
       "      <td>01005</td>\n",
       "    </tr>\n",
       "    <tr>\n",
       "      <th>52</th>\n",
       "      <td>KS</td>\n",
       "      <td>Kansas</td>\n",
       "      <td>Marion</td>\n",
       "      <td>20</td>\n",
       "      <td>KS, Marion</td>\n",
       "      <td>20115</td>\n",
       "    </tr>\n",
       "    <tr>\n",
       "      <th>53</th>\n",
       "      <td>KS</td>\n",
       "      <td>Kansas</td>\n",
       "      <td>Osborne</td>\n",
       "      <td>20</td>\n",
       "      <td>KS, Osborne</td>\n",
       "      <td>20141</td>\n",
       "    </tr>\n",
       "  </tbody>\n",
       "</table>\n",
       "</div>"
      ],
      "text/plain": [
       "   StateAbbr StateDesc LocationName ST_FIPS STATE_COUNTY COUNTY_FIPS\n",
       "49        AL   Alabama      Autauga      01  AL, Autauga       01001\n",
       "50        AL   Alabama      Autauga      01  AL, Autauga       01001\n",
       "51        AL   Alabama      Barbour      01  AL, Barbour       01005\n",
       "52        KS    Kansas       Marion      20   KS, Marion       20115\n",
       "53        KS    Kansas      Osborne      20  KS, Osborne       20141"
      ]
     },
     "execution_count": 63,
     "metadata": {},
     "output_type": "execute_result"
    }
   ],
   "source": [
    "cdc_keys[cdc_keys['StateAbbr'] != 'US'].head()"
   ]
  },
  {
   "cell_type": "code",
   "execution_count": 75,
   "id": "c7448b06-5448-4755-9016-1891a8b4a92e",
   "metadata": {},
   "outputs": [],
   "source": [
    "indeces['CDC_PLACES'] = cdc_keys"
   ]
  },
  {
   "cell_type": "markdown",
   "id": "620ec142-5266-424c-8614-c2d5406d1c7a",
   "metadata": {},
   "source": [
    "### AHRQ"
   ]
  },
  {
   "cell_type": "code",
   "execution_count": 54,
   "id": "460567d3-784c-4edd-97e9-e62344f94cc4",
   "metadata": {},
   "outputs": [],
   "source": [
    "ahrq_key_cols = source_files['AHRQ']['key_cols']\n",
    "ahrq_keys = source_files['AHRQ']['data'][ahrq_key_cols].copy()"
   ]
  },
  {
   "cell_type": "code",
   "execution_count": 58,
   "id": "99808776-2f74-4cb5-a110-11f1fb6424be",
   "metadata": {},
   "outputs": [],
   "source": [
    "ahrq_keys['COUNTY_FIPS'] = ahrq_keys['COUNTYFIPS'].astype('str').str.zfill(5)"
   ]
  },
  {
   "cell_type": "code",
   "execution_count": 65,
   "id": "d8c3fbb6-8db4-40ee-8d0b-4c4c1434630d",
   "metadata": {},
   "outputs": [
    {
     "name": "stdout",
     "output_type": "stream",
     "text": [
      "missing county FIPS codes: 0\n"
     ]
    }
   ],
   "source": [
    "# check for missing codes\n",
    "missing_codes = ahrq_keys[ahrq_keys['COUNTY_FIPS'].isnull()].copy()\n",
    "print(f\"missing county FIPS codes: {missing_codes.shape[0]}\")"
   ]
  },
  {
   "cell_type": "code",
   "execution_count": 59,
   "id": "9edd5378-9601-4d3a-bac6-be58e1975a9e",
   "metadata": {},
   "outputs": [
    {
     "data": {
      "text/html": [
       "<div>\n",
       "<style scoped>\n",
       "    .dataframe tbody tr th:only-of-type {\n",
       "        vertical-align: middle;\n",
       "    }\n",
       "\n",
       "    .dataframe tbody tr th {\n",
       "        vertical-align: top;\n",
       "    }\n",
       "\n",
       "    .dataframe thead th {\n",
       "        text-align: right;\n",
       "    }\n",
       "</style>\n",
       "<table border=\"1\" class=\"dataframe\">\n",
       "  <thead>\n",
       "    <tr style=\"text-align: right;\">\n",
       "      <th></th>\n",
       "      <th>COUNTYFIPS</th>\n",
       "      <th>STATEFIPS</th>\n",
       "      <th>STATE</th>\n",
       "      <th>COUNTY</th>\n",
       "      <th>COUNTY_FIPS</th>\n",
       "    </tr>\n",
       "  </thead>\n",
       "  <tbody>\n",
       "    <tr>\n",
       "      <th>0</th>\n",
       "      <td>1001</td>\n",
       "      <td>1</td>\n",
       "      <td>Alabama</td>\n",
       "      <td>Autauga County</td>\n",
       "      <td>01001</td>\n",
       "    </tr>\n",
       "    <tr>\n",
       "      <th>1</th>\n",
       "      <td>1003</td>\n",
       "      <td>1</td>\n",
       "      <td>Alabama</td>\n",
       "      <td>Baldwin County</td>\n",
       "      <td>01003</td>\n",
       "    </tr>\n",
       "    <tr>\n",
       "      <th>2</th>\n",
       "      <td>1005</td>\n",
       "      <td>1</td>\n",
       "      <td>Alabama</td>\n",
       "      <td>Barbour County</td>\n",
       "      <td>01005</td>\n",
       "    </tr>\n",
       "    <tr>\n",
       "      <th>3</th>\n",
       "      <td>1007</td>\n",
       "      <td>1</td>\n",
       "      <td>Alabama</td>\n",
       "      <td>Bibb County</td>\n",
       "      <td>01007</td>\n",
       "    </tr>\n",
       "    <tr>\n",
       "      <th>4</th>\n",
       "      <td>1009</td>\n",
       "      <td>1</td>\n",
       "      <td>Alabama</td>\n",
       "      <td>Blount County</td>\n",
       "      <td>01009</td>\n",
       "    </tr>\n",
       "  </tbody>\n",
       "</table>\n",
       "</div>"
      ],
      "text/plain": [
       "   COUNTYFIPS  STATEFIPS    STATE          COUNTY COUNTY_FIPS\n",
       "0        1001          1  Alabama  Autauga County       01001\n",
       "1        1003          1  Alabama  Baldwin County       01003\n",
       "2        1005          1  Alabama  Barbour County       01005\n",
       "3        1007          1  Alabama     Bibb County       01007\n",
       "4        1009          1  Alabama   Blount County       01009"
      ]
     },
     "execution_count": 59,
     "metadata": {},
     "output_type": "execute_result"
    }
   ],
   "source": [
    "ahrq_keys.head()"
   ]
  },
  {
   "cell_type": "code",
   "execution_count": 76,
   "id": "8b8b1092-3a57-47f1-844c-70628e924490",
   "metadata": {},
   "outputs": [],
   "source": [
    "indeces['AHRQ'] = ahrq_keys"
   ]
  },
  {
   "cell_type": "markdown",
   "id": "1122037f-c19b-4b35-a2b3-68e6a08a63c8",
   "metadata": {},
   "source": [
    "### CDC SVI"
   ]
  },
  {
   "cell_type": "code",
   "execution_count": 60,
   "id": "9039552c-ad62-4be1-b2d8-c9be732baa05",
   "metadata": {},
   "outputs": [],
   "source": [
    "svi_key_cols = source_files['CDC_SVI']['key_cols']\n",
    "svi_keys = source_files['CDC_SVI']['data'][svi_key_cols].copy()"
   ]
  },
  {
   "cell_type": "code",
   "execution_count": 61,
   "id": "b75f74ab-9315-4727-8106-23344fdfefee",
   "metadata": {},
   "outputs": [],
   "source": [
    "svi_keys['COUNTY_FIPS'] = svi_keys['FIPS'].astype('str').str.zfill(5)"
   ]
  },
  {
   "cell_type": "code",
   "execution_count": 66,
   "id": "f287685c-b880-49a0-8db5-7f42a6889145",
   "metadata": {},
   "outputs": [
    {
     "name": "stdout",
     "output_type": "stream",
     "text": [
      "missing county FIPS codes: 0\n"
     ]
    }
   ],
   "source": [
    "# check for missing codes\n",
    "missing_codes = svi_keys[svi_keys['COUNTY_FIPS'].isnull()].copy()\n",
    "print(f\"missing county FIPS codes: {missing_codes.shape[0]}\")"
   ]
  },
  {
   "cell_type": "code",
   "execution_count": 62,
   "id": "b3929158-a6a2-4e91-85fb-44ffce45982b",
   "metadata": {},
   "outputs": [
    {
     "data": {
      "text/html": [
       "<div>\n",
       "<style scoped>\n",
       "    .dataframe tbody tr th:only-of-type {\n",
       "        vertical-align: middle;\n",
       "    }\n",
       "\n",
       "    .dataframe tbody tr th {\n",
       "        vertical-align: top;\n",
       "    }\n",
       "\n",
       "    .dataframe thead th {\n",
       "        text-align: right;\n",
       "    }\n",
       "</style>\n",
       "<table border=\"1\" class=\"dataframe\">\n",
       "  <thead>\n",
       "    <tr style=\"text-align: right;\">\n",
       "      <th></th>\n",
       "      <th>STATE</th>\n",
       "      <th>ST_ABBR</th>\n",
       "      <th>COUNTY</th>\n",
       "      <th>FIPS</th>\n",
       "      <th>LOCATION</th>\n",
       "      <th>COUNTY_FIPS</th>\n",
       "    </tr>\n",
       "  </thead>\n",
       "  <tbody>\n",
       "    <tr>\n",
       "      <th>0</th>\n",
       "      <td>Alabama</td>\n",
       "      <td>AL</td>\n",
       "      <td>Autauga</td>\n",
       "      <td>1001</td>\n",
       "      <td>Autauga County, Alabama</td>\n",
       "      <td>01001</td>\n",
       "    </tr>\n",
       "    <tr>\n",
       "      <th>1</th>\n",
       "      <td>Alabama</td>\n",
       "      <td>AL</td>\n",
       "      <td>Baldwin</td>\n",
       "      <td>1003</td>\n",
       "      <td>Baldwin County, Alabama</td>\n",
       "      <td>01003</td>\n",
       "    </tr>\n",
       "    <tr>\n",
       "      <th>2</th>\n",
       "      <td>Alabama</td>\n",
       "      <td>AL</td>\n",
       "      <td>Barbour</td>\n",
       "      <td>1005</td>\n",
       "      <td>Barbour County, Alabama</td>\n",
       "      <td>01005</td>\n",
       "    </tr>\n",
       "    <tr>\n",
       "      <th>3</th>\n",
       "      <td>Alabama</td>\n",
       "      <td>AL</td>\n",
       "      <td>Bibb</td>\n",
       "      <td>1007</td>\n",
       "      <td>Bibb County, Alabama</td>\n",
       "      <td>01007</td>\n",
       "    </tr>\n",
       "    <tr>\n",
       "      <th>4</th>\n",
       "      <td>Alabama</td>\n",
       "      <td>AL</td>\n",
       "      <td>Blount</td>\n",
       "      <td>1009</td>\n",
       "      <td>Blount County, Alabama</td>\n",
       "      <td>01009</td>\n",
       "    </tr>\n",
       "  </tbody>\n",
       "</table>\n",
       "</div>"
      ],
      "text/plain": [
       "     STATE ST_ABBR   COUNTY  FIPS                 LOCATION COUNTY_FIPS\n",
       "0  Alabama      AL  Autauga  1001  Autauga County, Alabama       01001\n",
       "1  Alabama      AL  Baldwin  1003  Baldwin County, Alabama       01003\n",
       "2  Alabama      AL  Barbour  1005  Barbour County, Alabama       01005\n",
       "3  Alabama      AL     Bibb  1007     Bibb County, Alabama       01007\n",
       "4  Alabama      AL   Blount  1009   Blount County, Alabama       01009"
      ]
     },
     "execution_count": 62,
     "metadata": {},
     "output_type": "execute_result"
    }
   ],
   "source": [
    "svi_keys.head()"
   ]
  },
  {
   "cell_type": "code",
   "execution_count": 82,
   "id": "1ef36eaf-b922-4309-8564-a8cd7ac02ea7",
   "metadata": {},
   "outputs": [],
   "source": [
    "indeces['CDC_SVI'] = svi_keys"
   ]
  },
  {
   "cell_type": "markdown",
   "id": "805e61c2-966c-40bc-a9fa-24bfa37b41da",
   "metadata": {},
   "source": [
    "### EPA AQI"
   ]
  },
  {
   "cell_type": "code",
   "execution_count": 64,
   "id": "21499be5-4d6d-4987-bf43-25688f0b8eef",
   "metadata": {},
   "outputs": [],
   "source": [
    "epa_key_cols = source_files['EPA_AQI']['key_cols']\n",
    "epa_keys = source_files['EPA_AQI']['data'][epa_key_cols].copy()"
   ]
  },
  {
   "cell_type": "code",
   "execution_count": 70,
   "id": "e0605d2b-9c23-48b4-82a3-1c616d6cb63b",
   "metadata": {},
   "outputs": [],
   "source": [
    "epa_keys['STATE_FIPS'] = epa_keys['State Code'].astype('str').str.zfill(2)\n",
    "epa_keys['COUNTY_SHORT'] = epa_keys['County Code'].astype('str').str.zfill(3)\n",
    "epa_keys['COUNTY_FIPS'] = epa_keys['STATE_FIPS'] + epa_keys['COUNTY_SHORT']"
   ]
  },
  {
   "cell_type": "code",
   "execution_count": 71,
   "id": "84f616bf-19f3-48ff-8c25-bf15599214a4",
   "metadata": {},
   "outputs": [
    {
     "name": "stdout",
     "output_type": "stream",
     "text": [
      "missing county FIPS codes: 0\n"
     ]
    }
   ],
   "source": [
    "# check for missing codes\n",
    "missing_codes = epa_keys[epa_keys['COUNTY_FIPS'].isnull()].copy()\n",
    "print(f\"missing county FIPS codes: {missing_codes.shape[0]}\")"
   ]
  },
  {
   "cell_type": "code",
   "execution_count": 72,
   "id": "3790fc37-1c49-48b9-84d7-a1a7804d396f",
   "metadata": {},
   "outputs": [
    {
     "data": {
      "text/html": [
       "<div>\n",
       "<style scoped>\n",
       "    .dataframe tbody tr th:only-of-type {\n",
       "        vertical-align: middle;\n",
       "    }\n",
       "\n",
       "    .dataframe tbody tr th {\n",
       "        vertical-align: top;\n",
       "    }\n",
       "\n",
       "    .dataframe thead th {\n",
       "        text-align: right;\n",
       "    }\n",
       "</style>\n",
       "<table border=\"1\" class=\"dataframe\">\n",
       "  <thead>\n",
       "    <tr style=\"text-align: right;\">\n",
       "      <th></th>\n",
       "      <th>State Name</th>\n",
       "      <th>county Name</th>\n",
       "      <th>State Code</th>\n",
       "      <th>County Code</th>\n",
       "      <th>STATE_FIPS</th>\n",
       "      <th>COUNTY_SHORT</th>\n",
       "      <th>COUNTY_FIPS</th>\n",
       "    </tr>\n",
       "  </thead>\n",
       "  <tbody>\n",
       "    <tr>\n",
       "      <th>0</th>\n",
       "      <td>Alabama</td>\n",
       "      <td>Baldwin</td>\n",
       "      <td>1</td>\n",
       "      <td>3</td>\n",
       "      <td>01</td>\n",
       "      <td>003</td>\n",
       "      <td>01003</td>\n",
       "    </tr>\n",
       "    <tr>\n",
       "      <th>1</th>\n",
       "      <td>Alabama</td>\n",
       "      <td>Baldwin</td>\n",
       "      <td>1</td>\n",
       "      <td>3</td>\n",
       "      <td>01</td>\n",
       "      <td>003</td>\n",
       "      <td>01003</td>\n",
       "    </tr>\n",
       "    <tr>\n",
       "      <th>2</th>\n",
       "      <td>Alabama</td>\n",
       "      <td>Baldwin</td>\n",
       "      <td>1</td>\n",
       "      <td>3</td>\n",
       "      <td>01</td>\n",
       "      <td>003</td>\n",
       "      <td>01003</td>\n",
       "    </tr>\n",
       "    <tr>\n",
       "      <th>3</th>\n",
       "      <td>Alabama</td>\n",
       "      <td>Baldwin</td>\n",
       "      <td>1</td>\n",
       "      <td>3</td>\n",
       "      <td>01</td>\n",
       "      <td>003</td>\n",
       "      <td>01003</td>\n",
       "    </tr>\n",
       "    <tr>\n",
       "      <th>4</th>\n",
       "      <td>Alabama</td>\n",
       "      <td>Baldwin</td>\n",
       "      <td>1</td>\n",
       "      <td>3</td>\n",
       "      <td>01</td>\n",
       "      <td>003</td>\n",
       "      <td>01003</td>\n",
       "    </tr>\n",
       "  </tbody>\n",
       "</table>\n",
       "</div>"
      ],
      "text/plain": [
       "  State Name county Name  State Code  County Code STATE_FIPS COUNTY_SHORT  \\\n",
       "0    Alabama     Baldwin           1            3         01          003   \n",
       "1    Alabama     Baldwin           1            3         01          003   \n",
       "2    Alabama     Baldwin           1            3         01          003   \n",
       "3    Alabama     Baldwin           1            3         01          003   \n",
       "4    Alabama     Baldwin           1            3         01          003   \n",
       "\n",
       "  COUNTY_FIPS  \n",
       "0       01003  \n",
       "1       01003  \n",
       "2       01003  \n",
       "3       01003  \n",
       "4       01003  "
      ]
     },
     "execution_count": 72,
     "metadata": {},
     "output_type": "execute_result"
    }
   ],
   "source": [
    "epa_keys.head()"
   ]
  },
  {
   "cell_type": "code",
   "execution_count": 78,
   "id": "5bdc9bd2-2ad4-47e7-95bd-4bd544d80a01",
   "metadata": {},
   "outputs": [],
   "source": [
    "indeces['EPA_AQI'] = epa_keys"
   ]
  },
  {
   "cell_type": "markdown",
   "id": "be7231fd-1ca3-4e05-8ac7-451c6cf17b61",
   "metadata": {},
   "source": [
    "## Add County FIPS to Dataset and Output"
   ]
  },
  {
   "cell_type": "code",
   "execution_count": 95,
   "id": "15979fff-4f7c-446a-a364-ca6b7a134cba",
   "metadata": {},
   "outputs": [],
   "source": [
    "MEGA = 1024*1024"
   ]
  },
  {
   "cell_type": "code",
   "execution_count": 94,
   "id": "f9430d2a-a01c-4de9-a50e-cfbd1ff032c5",
   "metadata": {},
   "outputs": [
    {
     "name": "stdout",
     "output_type": "stream",
     "text": [
      "AHRQ data:\n",
      "> orig. cols: 682\n",
      "> aug. cols: 683\n",
      "records: 3229\n",
      "file size: 10.54 mb\n",
      "\n",
      "CDC_PLACES data:\n",
      "> orig. cols: 21\n",
      "> aug. cols: 22\n",
      "records: 176008\n",
      "file size: 42.16 mb\n",
      "\n",
      "CDC_SVI data:\n",
      "> orig. cols: 158\n",
      "> aug. cols: 159\n",
      "records: 3143\n",
      "file size: 2.2 mb\n",
      "\n",
      "EPA_AQI data:\n",
      "> orig. cols: 10\n",
      "> aug. cols: 11\n",
      "records: 324338\n",
      "file size: 21.76 mb\n",
      "\n"
     ]
    }
   ],
   "source": [
    "for src, src_info in source_files.items():\n",
    "    print(f\"{src} data:\")\n",
    "    orig_df = src_info['data']\n",
    "    print(f\"> orig. cols: {orig_df.shape[1]}\")\n",
    "    cnty_fips = indeces[src]['COUNTY_FIPS']\n",
    "    aug_df = orig_df.copy()\n",
    "    aug_df['COUNTY_FIPS'] = cnty_fips\n",
    "    print(f\"> aug. cols: {aug_df.shape[1]}\")\n",
    "    src_datafile = year_data / src / f\"{src}_county_raw.csv\"\n",
    "    aug_df.to_csv(src_datafile, index=False)\n",
    "    print(f\"records: {aug_df.shape[0]}\")\n",
    "    print(f\"file size: {round(src_datafile.stat().st_size / MEGA, 2)} mb\\n\")"
   ]
  },
  {
   "cell_type": "code",
   "execution_count": null,
   "id": "d4b4d86d-11ab-4449-9417-bb1bbf391305",
   "metadata": {},
   "outputs": [],
   "source": []
  }
 ],
 "metadata": {
  "kernelspec": {
   "display_name": "Python 3 (ipykernel)",
   "language": "python",
   "name": "python3"
  },
  "language_info": {
   "codemirror_mode": {
    "name": "ipython",
    "version": 3
   },
   "file_extension": ".py",
   "mimetype": "text/x-python",
   "name": "python",
   "nbconvert_exporter": "python",
   "pygments_lexer": "ipython3",
   "version": "3.10.0"
  }
 },
 "nbformat": 4,
 "nbformat_minor": 5
}
