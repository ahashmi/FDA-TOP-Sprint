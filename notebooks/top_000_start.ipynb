{
 "cells": [
  {
   "cell_type": "code",
   "execution_count": 2,
   "id": "4ed1b456-df8e-4d87-99ba-bbd0bf403b70",
   "metadata": {},
   "outputs": [],
   "source": [
    "from pathlib import Path\n",
    "import requests\n",
    "import pandas as pd\n",
    "import matplotlib.pyplot as plt\n",
    "%matplotlib inline"
   ]
  },
  {
   "cell_type": "code",
   "execution_count": null,
   "id": "12cc255a-7c62-4d6d-ad67-3b9ef0f39ec2",
   "metadata": {},
   "outputs": [],
   "source": [
    "sources = {\n",
    "    'AHRQ SDOH': 'https://www.ahrq.gov/sdoh/data-analytics/sdoh-data.html',\n",
    "    'CDC EPH': 'https://ephtracking.cdc.gov/',"
   ]
  }
 ],
 "metadata": {
  "kernelspec": {
   "display_name": "Python 3 (ipykernel)",
   "language": "python",
   "name": "python3"
  },
  "language_info": {
   "codemirror_mode": {
    "name": "ipython",
    "version": 3
   },
   "file_extension": ".py",
   "mimetype": "text/x-python",
   "name": "python",
   "nbconvert_exporter": "python",
   "pygments_lexer": "ipython3",
   "version": "3.10.0"
  }
 },
 "nbformat": 4,
 "nbformat_minor": 5
}
