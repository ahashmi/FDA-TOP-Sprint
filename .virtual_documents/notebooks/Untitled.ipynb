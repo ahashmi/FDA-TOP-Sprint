from pathlib import Path
import requests
import pandas as pd
import matplotlib.pyplot as plt
get_ipython().run_line_magic("matplotlib", " inline")



